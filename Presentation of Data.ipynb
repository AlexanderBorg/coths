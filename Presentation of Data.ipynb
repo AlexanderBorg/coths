{
 "cells": [
  {
   "cell_type": "markdown",
   "metadata": {},
   "source": [
    "# Introduction\n",
    "<b>HOW TO USE THIS NOTEBOOK</b>\n",
    "\n",
    "This is a Jupyter notebook.  It integrates my written code with tables, graphs, and explanations.  After finishing myriad novel algorithms, this is the culmination of all outputs.\n",
    "\n",
    "You don't need to read or run any of the code; the outputs are already visible below each cell (notice the red \"Out\" on the left of the outputs below."
   ]
  },
  {
   "cell_type": "markdown",
   "metadata": {},
   "source": [
    "## Import Patient Data"
   ]
  },
  {
   "cell_type": "code",
   "execution_count": 76,
   "metadata": {},
   "outputs": [
    {
     "name": "stdout",
     "output_type": "stream",
     "text": [
      "Data loaded for patient 575852.\n"
     ]
    }
   ],
   "source": [
    "# Import Python APIs for data handling\n",
    "import numpy as np\n",
    "import pandas as pd\n",
    "import os\n",
    "\n",
    "# Patient list we started with\n",
    "pt_list = [283846, 575852, 867202, 1770690, 1796650, 1980730,\n",
    "          2249087, 3406478, 3427895, 3451725, 3471107, 3711107,\n",
    "          3712357, 4223514, 4259800, 4384579]\n",
    "\n",
    "# Several patients must be excluded, mainly due to incomplete datasets\n",
    "exclusions = [283846, 1796650, 1980730, 2249087, 3406478, 3471107, \n",
    "              3712357, 3740057, 3711107, 4384579]\n",
    "pt_list = [pt for pt in pt_list if pt not in exclusions] # Remove exclusions\n",
    "\n",
    "# Define a working directory\n",
    "root = r'C:\\Users\\aborg\\Desktop\\..Imported Mandible\\Pickle Files May 7 2020\\Outputs'\n",
    "patient_number = pt_list[0]\n",
    "\n",
    "# Import and store saved data as variables\n",
    "data_ = os.path.join(root, '%s_all_data.csv' % patient_number)\n",
    "bins_ = os.path.join(root, '%s_dose_bins.csv' % patient_number)\n",
    "coth = pd.read_pickle(data_)\n",
    "dose = pd.read_pickle(bins_)\n",
    "\n",
    "print('Data loaded for patient %s.' % patient_number) # Print statement"
   ]
  },
  {
   "cell_type": "markdown",
   "metadata": {},
   "source": [
    "# Viewing Data\n",
    "The algorithm outputs myriad variables and types.  Let's take a look at the first five lines of the \"data\" variable."
   ]
  },
  {
   "cell_type": "code",
   "execution_count": 9,
   "metadata": {},
   "outputs": [
    {
     "data": {
      "text/html": [
       "<div>\n",
       "<style scoped>\n",
       "    .dataframe tbody tr th:only-of-type {\n",
       "        vertical-align: middle;\n",
       "    }\n",
       "\n",
       "    .dataframe tbody tr th {\n",
       "        vertical-align: top;\n",
       "    }\n",
       "\n",
       "    .dataframe thead th {\n",
       "        text-align: right;\n",
       "    }\n",
       "</style>\n",
       "<table border=\"1\" class=\"dataframe\">\n",
       "  <thead>\n",
       "    <tr style=\"text-align: right;\">\n",
       "      <th></th>\n",
       "      <th>Pre CTh</th>\n",
       "      <th>Post CTh</th>\n",
       "      <th>Pct Change</th>\n",
       "      <th>Distances</th>\n",
       "      <th>Pre Err</th>\n",
       "      <th>Post Err</th>\n",
       "      <th>Dose</th>\n",
       "      <th>Pt</th>\n",
       "    </tr>\n",
       "  </thead>\n",
       "  <tbody>\n",
       "    <tr>\n",
       "      <th>0</th>\n",
       "      <td>2.926698</td>\n",
       "      <td>3.085985</td>\n",
       "      <td>5.442568</td>\n",
       "      <td>2.258378</td>\n",
       "      <td>1.272265e-02</td>\n",
       "      <td>0.007880</td>\n",
       "      <td>0.000000</td>\n",
       "      <td>575852</td>\n",
       "    </tr>\n",
       "    <tr>\n",
       "      <th>1</th>\n",
       "      <td>3.274294</td>\n",
       "      <td>2.729330</td>\n",
       "      <td>-16.643698</td>\n",
       "      <td>2.243121</td>\n",
       "      <td>1.246493e-02</td>\n",
       "      <td>0.008114</td>\n",
       "      <td>72.053073</td>\n",
       "      <td>575852</td>\n",
       "    </tr>\n",
       "    <tr>\n",
       "      <th>2</th>\n",
       "      <td>3.368458</td>\n",
       "      <td>2.965358</td>\n",
       "      <td>-11.966896</td>\n",
       "      <td>2.308988</td>\n",
       "      <td>1.000000e+10</td>\n",
       "      <td>0.008973</td>\n",
       "      <td>72.053073</td>\n",
       "      <td>575852</td>\n",
       "    </tr>\n",
       "    <tr>\n",
       "      <th>3</th>\n",
       "      <td>3.543770</td>\n",
       "      <td>3.210767</td>\n",
       "      <td>-9.396879</td>\n",
       "      <td>2.311792</td>\n",
       "      <td>1.491459e-02</td>\n",
       "      <td>0.008884</td>\n",
       "      <td>72.303061</td>\n",
       "      <td>575852</td>\n",
       "    </tr>\n",
       "    <tr>\n",
       "      <th>4</th>\n",
       "      <td>3.396229</td>\n",
       "      <td>2.947921</td>\n",
       "      <td>-13.200181</td>\n",
       "      <td>2.023262</td>\n",
       "      <td>1.358274e-02</td>\n",
       "      <td>0.009560</td>\n",
       "      <td>0.000000</td>\n",
       "      <td>575852</td>\n",
       "    </tr>\n",
       "  </tbody>\n",
       "</table>\n",
       "</div>"
      ],
      "text/plain": [
       "    Pre CTh  Post CTh  Pct Change  Distances       Pre Err  Post Err  \\\n",
       "0  2.926698  3.085985    5.442568   2.258378  1.272265e-02  0.007880   \n",
       "1  3.274294  2.729330  -16.643698   2.243121  1.246493e-02  0.008114   \n",
       "2  3.368458  2.965358  -11.966896   2.308988  1.000000e+10  0.008973   \n",
       "3  3.543770  3.210767   -9.396879   2.311792  1.491459e-02  0.008884   \n",
       "4  3.396229  2.947921  -13.200181   2.023262  1.358274e-02  0.009560   \n",
       "\n",
       "        Dose      Pt  \n",
       "0   0.000000  575852  \n",
       "1  72.053073  575852  \n",
       "2  72.053073  575852  \n",
       "3  72.303061  575852  \n",
       "4   0.000000  575852  "
      ]
     },
     "execution_count": 9,
     "metadata": {},
     "output_type": "execute_result"
    }
   ],
   "source": [
    "coth.head(5)"
   ]
  },
  {
   "cell_type": "markdown",
   "metadata": {},
   "source": [
    "### What does this tell us?\n",
    "First, look at the left side.  0, 1, 2, 3, 4 represent five different sets of matched points.  Each set has a \"trio\" of points: a Pre-RT Point, a Post-RT Point, and Dose Point (points may or may not be repeated, due to sporadic sampling).  Each pre- and post-RT point has a cortical thickness measurement, along with an error outputted alongside it (both in mm).  The percent change should be self-explanatory (positive values indicate Co.Th. increasing, and vice versa).  \"Distances\" indicates the furthest distance any point in the trio is from the furthest (in mm, and serves as an additional indication of local error).  Dose is measured in Gray.  \"Pt\" is simply the patient's number.\n",
    "\n",
    "### How can we make use of it?\n",
    "This table has tens of thousands of point trios.  To start, let's just get a summary of the table."
   ]
  },
  {
   "cell_type": "code",
   "execution_count": 10,
   "metadata": {
    "scrolled": true
   },
   "outputs": [
    {
     "data": {
      "text/html": [
       "<div>\n",
       "<style scoped>\n",
       "    .dataframe tbody tr th:only-of-type {\n",
       "        vertical-align: middle;\n",
       "    }\n",
       "\n",
       "    .dataframe tbody tr th {\n",
       "        vertical-align: top;\n",
       "    }\n",
       "\n",
       "    .dataframe thead th {\n",
       "        text-align: right;\n",
       "    }\n",
       "</style>\n",
       "<table border=\"1\" class=\"dataframe\">\n",
       "  <thead>\n",
       "    <tr style=\"text-align: right;\">\n",
       "      <th></th>\n",
       "      <th>Pre CTh</th>\n",
       "      <th>Post CTh</th>\n",
       "      <th>Pct Change</th>\n",
       "      <th>Distances</th>\n",
       "      <th>Pre Err</th>\n",
       "      <th>Post Err</th>\n",
       "      <th>Dose</th>\n",
       "      <th>Pt</th>\n",
       "    </tr>\n",
       "  </thead>\n",
       "  <tbody>\n",
       "    <tr>\n",
       "      <th>count</th>\n",
       "      <td>14991.000000</td>\n",
       "      <td>29198.000000</td>\n",
       "      <td>14991.000000</td>\n",
       "      <td>29198.000000</td>\n",
       "      <td>1.499100e+04</td>\n",
       "      <td>2.919800e+04</td>\n",
       "      <td>44971.000000</td>\n",
       "      <td>44971.0</td>\n",
       "    </tr>\n",
       "    <tr>\n",
       "      <th>mean</th>\n",
       "      <td>2.147574</td>\n",
       "      <td>1.752159</td>\n",
       "      <td>-0.598717</td>\n",
       "      <td>0.772111</td>\n",
       "      <td>6.157042e+08</td>\n",
       "      <td>4.651013e+08</td>\n",
       "      <td>16.414952</td>\n",
       "      <td>575852.0</td>\n",
       "    </tr>\n",
       "    <tr>\n",
       "      <th>std</th>\n",
       "      <td>0.844037</td>\n",
       "      <td>0.773288</td>\n",
       "      <td>85.480582</td>\n",
       "      <td>0.639923</td>\n",
       "      <td>2.403814e+09</td>\n",
       "      <td>2.105905e+09</td>\n",
       "      <td>28.446280</td>\n",
       "      <td>0.0</td>\n",
       "    </tr>\n",
       "    <tr>\n",
       "      <th>min</th>\n",
       "      <td>0.061450</td>\n",
       "      <td>-0.467177</td>\n",
       "      <td>-162.791263</td>\n",
       "      <td>0.005431</td>\n",
       "      <td>5.186124e-03</td>\n",
       "      <td>5.174079e-03</td>\n",
       "      <td>0.000000</td>\n",
       "      <td>575852.0</td>\n",
       "    </tr>\n",
       "    <tr>\n",
       "      <th>25%</th>\n",
       "      <td>1.644921</td>\n",
       "      <td>1.223858</td>\n",
       "      <td>-35.500803</td>\n",
       "      <td>0.479409</td>\n",
       "      <td>6.372163e-03</td>\n",
       "      <td>6.134186e-03</td>\n",
       "      <td>0.000000</td>\n",
       "      <td>575852.0</td>\n",
       "    </tr>\n",
       "    <tr>\n",
       "      <th>50%</th>\n",
       "      <td>2.164530</td>\n",
       "      <td>1.682191</td>\n",
       "      <td>-14.237654</td>\n",
       "      <td>0.629947</td>\n",
       "      <td>7.623268e-03</td>\n",
       "      <td>7.139969e-03</td>\n",
       "      <td>0.000000</td>\n",
       "      <td>575852.0</td>\n",
       "    </tr>\n",
       "    <tr>\n",
       "      <th>75%</th>\n",
       "      <td>2.665561</td>\n",
       "      <td>2.145459</td>\n",
       "      <td>8.803036</td>\n",
       "      <td>0.823962</td>\n",
       "      <td>1.075627e-02</td>\n",
       "      <td>9.205383e-03</td>\n",
       "      <td>31.139983</td>\n",
       "      <td>575852.0</td>\n",
       "    </tr>\n",
       "    <tr>\n",
       "      <th>max</th>\n",
       "      <td>5.891550</td>\n",
       "      <td>5.415735</td>\n",
       "      <td>2232.510299</td>\n",
       "      <td>6.026678</td>\n",
       "      <td>1.000000e+10</td>\n",
       "      <td>1.000000e+10</td>\n",
       "      <td>74.241645</td>\n",
       "      <td>575852.0</td>\n",
       "    </tr>\n",
       "  </tbody>\n",
       "</table>\n",
       "</div>"
      ],
      "text/plain": [
       "            Pre CTh      Post CTh    Pct Change     Distances       Pre Err  \\\n",
       "count  14991.000000  29198.000000  14991.000000  29198.000000  1.499100e+04   \n",
       "mean       2.147574      1.752159     -0.598717      0.772111  6.157042e+08   \n",
       "std        0.844037      0.773288     85.480582      0.639923  2.403814e+09   \n",
       "min        0.061450     -0.467177   -162.791263      0.005431  5.186124e-03   \n",
       "25%        1.644921      1.223858    -35.500803      0.479409  6.372163e-03   \n",
       "50%        2.164530      1.682191    -14.237654      0.629947  7.623268e-03   \n",
       "75%        2.665561      2.145459      8.803036      0.823962  1.075627e-02   \n",
       "max        5.891550      5.415735   2232.510299      6.026678  1.000000e+10   \n",
       "\n",
       "           Post Err          Dose        Pt  \n",
       "count  2.919800e+04  44971.000000   44971.0  \n",
       "mean   4.651013e+08     16.414952  575852.0  \n",
       "std    2.105905e+09     28.446280       0.0  \n",
       "min    5.174079e-03      0.000000  575852.0  \n",
       "25%    6.134186e-03      0.000000  575852.0  \n",
       "50%    7.139969e-03      0.000000  575852.0  \n",
       "75%    9.205383e-03     31.139983  575852.0  \n",
       "max    1.000000e+10     74.241645  575852.0  "
      ]
     },
     "execution_count": 10,
     "metadata": {},
     "output_type": "execute_result"
    }
   ],
   "source": [
    "coth.describe()"
   ]
  },
  {
   "cell_type": "markdown",
   "metadata": {},
   "source": [
    "## Filter and Sort Output\n",
    "The table above provides a good snapshot at this patient's information.  It displays broad information regarding all vertices from the patient's point clouds, grouped by type.\n",
    "\n",
    "\n",
    "We're able to filter out irrelevant information.  For example, if the Pre-RT and Post-RT \"Error\" associated with each vertex exceeds a threshold, the row may be removed.  Let's do some filtering, then see what the dataset is like."
   ]
  },
  {
   "cell_type": "code",
   "execution_count": 66,
   "metadata": {},
   "outputs": [
    {
     "data": {
      "text/html": [
       "<div>\n",
       "<style scoped>\n",
       "    .dataframe tbody tr th:only-of-type {\n",
       "        vertical-align: middle;\n",
       "    }\n",
       "\n",
       "    .dataframe tbody tr th {\n",
       "        vertical-align: top;\n",
       "    }\n",
       "\n",
       "    .dataframe thead th {\n",
       "        text-align: right;\n",
       "    }\n",
       "</style>\n",
       "<table border=\"1\" class=\"dataframe\">\n",
       "  <thead>\n",
       "    <tr style=\"text-align: right;\">\n",
       "      <th></th>\n",
       "      <th>Pre CTh</th>\n",
       "      <th>Post CTh</th>\n",
       "      <th>Pct Change</th>\n",
       "      <th>Distances</th>\n",
       "      <th>Pre Err</th>\n",
       "      <th>Post Err</th>\n",
       "      <th>Dose</th>\n",
       "      <th>Pt</th>\n",
       "    </tr>\n",
       "  </thead>\n",
       "  <tbody>\n",
       "    <tr>\n",
       "      <th>count</th>\n",
       "      <td>7543.000000</td>\n",
       "      <td>7543.000000</td>\n",
       "      <td>7543.000000</td>\n",
       "      <td>7543.000000</td>\n",
       "      <td>7543.000000</td>\n",
       "      <td>7543.000000</td>\n",
       "      <td>7543.000000</td>\n",
       "      <td>7543.0</td>\n",
       "    </tr>\n",
       "    <tr>\n",
       "      <th>mean</th>\n",
       "      <td>2.163754</td>\n",
       "      <td>1.720629</td>\n",
       "      <td>-12.444668</td>\n",
       "      <td>0.596233</td>\n",
       "      <td>0.008932</td>\n",
       "      <td>0.008610</td>\n",
       "      <td>51.410825</td>\n",
       "      <td>575852.0</td>\n",
       "    </tr>\n",
       "    <tr>\n",
       "      <th>std</th>\n",
       "      <td>0.747946</td>\n",
       "      <td>0.650876</td>\n",
       "      <td>60.914860</td>\n",
       "      <td>0.197261</td>\n",
       "      <td>0.006026</td>\n",
       "      <td>0.004461</td>\n",
       "      <td>27.263337</td>\n",
       "      <td>0.0</td>\n",
       "    </tr>\n",
       "    <tr>\n",
       "      <th>min</th>\n",
       "      <td>0.072421</td>\n",
       "      <td>-0.467177</td>\n",
       "      <td>-162.791263</td>\n",
       "      <td>0.020529</td>\n",
       "      <td>0.005189</td>\n",
       "      <td>0.005272</td>\n",
       "      <td>0.132069</td>\n",
       "      <td>575852.0</td>\n",
       "    </tr>\n",
       "    <tr>\n",
       "      <th>25%</th>\n",
       "      <td>1.715132</td>\n",
       "      <td>1.327590</td>\n",
       "      <td>-37.992636</td>\n",
       "      <td>0.462293</td>\n",
       "      <td>0.006336</td>\n",
       "      <td>0.006563</td>\n",
       "      <td>33.833248</td>\n",
       "      <td>575852.0</td>\n",
       "    </tr>\n",
       "    <tr>\n",
       "      <th>50%</th>\n",
       "      <td>2.177391</td>\n",
       "      <td>1.669865</td>\n",
       "      <td>-19.692089</td>\n",
       "      <td>0.594135</td>\n",
       "      <td>0.007359</td>\n",
       "      <td>0.007486</td>\n",
       "      <td>67.152370</td>\n",
       "      <td>575852.0</td>\n",
       "    </tr>\n",
       "    <tr>\n",
       "      <th>75%</th>\n",
       "      <td>2.626579</td>\n",
       "      <td>2.084835</td>\n",
       "      <td>-0.362650</td>\n",
       "      <td>0.733033</td>\n",
       "      <td>0.009336</td>\n",
       "      <td>0.008962</td>\n",
       "      <td>72.703984</td>\n",
       "      <td>575852.0</td>\n",
       "    </tr>\n",
       "    <tr>\n",
       "      <th>max</th>\n",
       "      <td>5.840707</td>\n",
       "      <td>5.159563</td>\n",
       "      <td>1807.578726</td>\n",
       "      <td>0.999839</td>\n",
       "      <td>0.098345</td>\n",
       "      <td>0.081240</td>\n",
       "      <td>74.241645</td>\n",
       "      <td>575852.0</td>\n",
       "    </tr>\n",
       "  </tbody>\n",
       "</table>\n",
       "</div>"
      ],
      "text/plain": [
       "           Pre CTh     Post CTh   Pct Change    Distances      Pre Err  \\\n",
       "count  7543.000000  7543.000000  7543.000000  7543.000000  7543.000000   \n",
       "mean      2.163754     1.720629   -12.444668     0.596233     0.008932   \n",
       "std       0.747946     0.650876    60.914860     0.197261     0.006026   \n",
       "min       0.072421    -0.467177  -162.791263     0.020529     0.005189   \n",
       "25%       1.715132     1.327590   -37.992636     0.462293     0.006336   \n",
       "50%       2.177391     1.669865   -19.692089     0.594135     0.007359   \n",
       "75%       2.626579     2.084835    -0.362650     0.733033     0.009336   \n",
       "max       5.840707     5.159563  1807.578726     0.999839     0.098345   \n",
       "\n",
       "          Post Err         Dose        Pt  \n",
       "count  7543.000000  7543.000000    7543.0  \n",
       "mean      0.008610    51.410825  575852.0  \n",
       "std       0.004461    27.263337       0.0  \n",
       "min       0.005272     0.132069  575852.0  \n",
       "25%       0.006563    33.833248  575852.0  \n",
       "50%       0.007486    67.152370  575852.0  \n",
       "75%       0.008962    72.703984  575852.0  \n",
       "max       0.081240    74.241645  575852.0  "
      ]
     },
     "execution_count": 66,
     "metadata": {},
     "output_type": "execute_result"
    }
   ],
   "source": [
    "# Remove datapoints with a local error below 0.1 mm\n",
    "coth_ = coth[coth['Post Err'] < 0.1]\n",
    "coth_ = coth_[coth_['Pre Err'] < 0.1]\n",
    "\n",
    "# Remove datapoints with furthest associated neighbor distance of greater than 1 mm\n",
    "coth_ = coth_[coth_['Distances'] < 1]\n",
    "\n",
    "# Remove datapoints exhibiting unreasonable % change\n",
    "all_coth_ = all_coth_[all_coth_['Pct Change'] < 100]\n",
    "all_coth_ = all_coth_[all_coth_['Pct Change'] > -100]\n",
    "dose = dose[dose < 100]\n",
    "dose = dose[dose > -100]\n",
    "\n",
    "# Remove datapoints exhibiting 0 Gy\n",
    "coth_ = coth_[coth_['Dose'] != 0]\n",
    "\n",
    "coth_.describe() # Display table"
   ]
  },
  {
   "cell_type": "markdown",
   "metadata": {},
   "source": [
    "### What's different?\n",
    "As desired, distances are now all under 1 mm.  In other words, the only data left are those 1 mm or closer to each other.  Likewise, all errors are below our somewhat arbitrary threshold of 0.1 mm.\n",
    "\n",
    "Now that some definitive sources of error have been filtered, let's see a few rows of what we have left."
   ]
  },
  {
   "cell_type": "code",
   "execution_count": 58,
   "metadata": {},
   "outputs": [
    {
     "data": {
      "text/html": [
       "<div>\n",
       "<style scoped>\n",
       "    .dataframe tbody tr th:only-of-type {\n",
       "        vertical-align: middle;\n",
       "    }\n",
       "\n",
       "    .dataframe tbody tr th {\n",
       "        vertical-align: top;\n",
       "    }\n",
       "\n",
       "    .dataframe thead th {\n",
       "        text-align: right;\n",
       "    }\n",
       "</style>\n",
       "<table border=\"1\" class=\"dataframe\">\n",
       "  <thead>\n",
       "    <tr style=\"text-align: right;\">\n",
       "      <th></th>\n",
       "      <th>Pre CTh</th>\n",
       "      <th>Post CTh</th>\n",
       "      <th>Pct Change</th>\n",
       "      <th>Dose</th>\n",
       "    </tr>\n",
       "  </thead>\n",
       "  <tbody>\n",
       "    <tr>\n",
       "      <th>285</th>\n",
       "      <td>3.766890</td>\n",
       "      <td>3.884945</td>\n",
       "      <td>3.134004</td>\n",
       "      <td>26.828874</td>\n",
       "    </tr>\n",
       "    <tr>\n",
       "      <th>331</th>\n",
       "      <td>3.277897</td>\n",
       "      <td>2.970216</td>\n",
       "      <td>-9.386532</td>\n",
       "      <td>71.138023</td>\n",
       "    </tr>\n",
       "    <tr>\n",
       "      <th>345</th>\n",
       "      <td>3.008629</td>\n",
       "      <td>3.079923</td>\n",
       "      <td>2.369649</td>\n",
       "      <td>68.840966</td>\n",
       "    </tr>\n",
       "    <tr>\n",
       "      <th>350</th>\n",
       "      <td>3.069374</td>\n",
       "      <td>3.121491</td>\n",
       "      <td>1.697968</td>\n",
       "      <td>67.751397</td>\n",
       "    </tr>\n",
       "    <tr>\n",
       "      <th>351</th>\n",
       "      <td>3.709679</td>\n",
       "      <td>2.953530</td>\n",
       "      <td>-20.383133</td>\n",
       "      <td>67.751397</td>\n",
       "    </tr>\n",
       "  </tbody>\n",
       "</table>\n",
       "</div>"
      ],
      "text/plain": [
       "      Pre CTh  Post CTh  Pct Change       Dose\n",
       "285  3.766890  3.884945    3.134004  26.828874\n",
       "331  3.277897  2.970216   -9.386532  71.138023\n",
       "345  3.008629  3.079923    2.369649  68.840966\n",
       "350  3.069374  3.121491    1.697968  67.751397\n",
       "351  3.709679  2.953530  -20.383133  67.751397"
      ]
     },
     "execution_count": 58,
     "metadata": {},
     "output_type": "execute_result"
    }
   ],
   "source": [
    "# Remove unused columns\n",
    "coth__ = coth_.drop(['Post Err', 'Pre Err', 'Distances', 'Pt'], axis=1)\n",
    "\n",
    "# Display first five rows of remaining data\n",
    "coth__.head(5)"
   ]
  },
  {
   "cell_type": "markdown",
   "metadata": {},
   "source": [
    "## Co.Th. Histogram"
   ]
  },
  {
   "cell_type": "code",
   "execution_count": 59,
   "metadata": {},
   "outputs": [
    {
     "data": {
      "text/plain": [
       "(-100, 100)"
      ]
     },
     "execution_count": 59,
     "metadata": {},
     "output_type": "execute_result"
    },
    {
     "data": {
      "image/png": "[encoded data removed]",
      "text/plain": [
       "<Figure size 432x288 with 1 Axes>"
      ]
     },
     "metadata": {
      "needs_background": "light"
     },
     "output_type": "display_data"
    }
   ],
   "source": [
    "# Display histogram\n",
    "ax = coth__['Pct Change'].plot.hist(bins = 500, alpha = 0.5)\n",
    "\n",
    "# Set x-axis limit\n",
    "ax.set_xlim(-100, 100)"
   ]
  },
  {
   "cell_type": "markdown",
   "metadata": {},
   "source": [
    "# Binning Doses"
   ]
  },
  {
   "cell_type": "markdown",
   "metadata": {},
   "source": [
    "The Python programming language is extremely powerful.  It is simple to splice and compare different aspects of \"big\" data."
   ]
  },
  {
   "cell_type": "code",
   "execution_count": 60,
   "metadata": {},
   "outputs": [
    {
     "data": {
      "text/html": [
       "<div>\n",
       "<style scoped>\n",
       "    .dataframe tbody tr th:only-of-type {\n",
       "        vertical-align: middle;\n",
       "    }\n",
       "\n",
       "    .dataframe tbody tr th {\n",
       "        vertical-align: top;\n",
       "    }\n",
       "\n",
       "    .dataframe thead th {\n",
       "        text-align: right;\n",
       "    }\n",
       "</style>\n",
       "<table border=\"1\" class=\"dataframe\">\n",
       "  <thead>\n",
       "    <tr style=\"text-align: right;\">\n",
       "      <th></th>\n",
       "      <th>&gt;0 Gy</th>\n",
       "      <th>&gt;10 Gy</th>\n",
       "      <th>&gt;20 Gy</th>\n",
       "      <th>&gt;30 Gy</th>\n",
       "      <th>&gt;40 Gy</th>\n",
       "    </tr>\n",
       "  </thead>\n",
       "  <tbody>\n",
       "    <tr>\n",
       "      <th>count</th>\n",
       "      <td>11867.000000</td>\n",
       "      <td>10052.000000</td>\n",
       "      <td>10052.000000</td>\n",
       "      <td>9628.000000</td>\n",
       "      <td>8510.000000</td>\n",
       "    </tr>\n",
       "    <tr>\n",
       "      <th>mean</th>\n",
       "      <td>-10.809380</td>\n",
       "      <td>-18.309428</td>\n",
       "      <td>-18.309428</td>\n",
       "      <td>-18.856378</td>\n",
       "      <td>-20.529646</td>\n",
       "    </tr>\n",
       "    <tr>\n",
       "      <th>std</th>\n",
       "      <td>60.195896</td>\n",
       "      <td>38.500133</td>\n",
       "      <td>38.500133</td>\n",
       "      <td>39.029869</td>\n",
       "      <td>39.399848</td>\n",
       "    </tr>\n",
       "    <tr>\n",
       "      <th>min</th>\n",
       "      <td>-162.791263</td>\n",
       "      <td>-162.791263</td>\n",
       "      <td>-162.791263</td>\n",
       "      <td>-162.791263</td>\n",
       "      <td>-162.791263</td>\n",
       "    </tr>\n",
       "    <tr>\n",
       "      <th>25%</th>\n",
       "      <td>-38.569360</td>\n",
       "      <td>-40.860864</td>\n",
       "      <td>-40.860864</td>\n",
       "      <td>-41.582029</td>\n",
       "      <td>-42.743660</td>\n",
       "    </tr>\n",
       "    <tr>\n",
       "      <th>50%</th>\n",
       "      <td>-18.834730</td>\n",
       "      <td>-22.570769</td>\n",
       "      <td>-22.570769</td>\n",
       "      <td>-23.506795</td>\n",
       "      <td>-25.765323</td>\n",
       "    </tr>\n",
       "    <tr>\n",
       "      <th>75%</th>\n",
       "      <td>0.929518</td>\n",
       "      <td>-3.945371</td>\n",
       "      <td>-3.945371</td>\n",
       "      <td>-4.766606</td>\n",
       "      <td>-6.895867</td>\n",
       "    </tr>\n",
       "    <tr>\n",
       "      <th>max</th>\n",
       "      <td>1807.578726</td>\n",
       "      <td>282.606278</td>\n",
       "      <td>282.606278</td>\n",
       "      <td>282.606278</td>\n",
       "      <td>282.606278</td>\n",
       "    </tr>\n",
       "  </tbody>\n",
       "</table>\n",
       "</div>"
      ],
      "text/plain": [
       "              >0 Gy        >10 Gy        >20 Gy       >30 Gy       >40 Gy\n",
       "count  11867.000000  10052.000000  10052.000000  9628.000000  8510.000000\n",
       "mean     -10.809380    -18.309428    -18.309428   -18.856378   -20.529646\n",
       "std       60.195896     38.500133     38.500133    39.029869    39.399848\n",
       "min     -162.791263   -162.791263   -162.791263  -162.791263  -162.791263\n",
       "25%      -38.569360    -40.860864    -40.860864   -41.582029   -42.743660\n",
       "50%      -18.834730    -22.570769    -22.570769   -23.506795   -25.765323\n",
       "75%        0.929518     -3.945371     -3.945371    -4.766606    -6.895867\n",
       "max     1807.578726    282.606278    282.606278   282.606278   282.606278"
      ]
     },
     "execution_count": 60,
     "metadata": {},
     "output_type": "execute_result"
    }
   ],
   "source": [
    "dose.describe()"
   ]
  },
  {
   "cell_type": "markdown",
   "metadata": {},
   "source": [
    "## What does this tell us?\n",
    "Keep in mind: Values (mean, min, max, etc.) represent the cortical thickness change (%) about each vertex.\n",
    "\n",
    "From the count, most points exhibit either a high dose (over 40 Gy) or a low dose (under 10 Gy).  The mean and median ('50%') follow a similar trend.  A binned histogram is more useful, see below."
   ]
  },
  {
   "cell_type": "code",
   "execution_count": 61,
   "metadata": {},
   "outputs": [
    {
     "data": {
      "text/plain": [
       "Text(0.5, 1.0, 'CTh % Change with Bins')"
      ]
     },
     "execution_count": 61,
     "metadata": {},
     "output_type": "execute_result"
    },
    {
     "data": {
      "image/png": "[encoded data removed]",
      "text/plain": [
       "<Figure size 432x288 with 1 Axes>"
      ]
     },
     "metadata": {
      "needs_background": "light"
     },
     "output_type": "display_data"
    }
   ],
   "source": [
    "ax = dose.plot.hist(bins = 500, alpha = 0.4) # 'alpha' indicates color\n",
    "ax.set_xlim(-100, 55) # Set axes limits\n",
    "ax.set_title('CTh % Change with Bins') # Set title"
   ]
  },
  {
   "cell_type": "markdown",
   "metadata": {},
   "source": [
    "Let's compare this to the original histogram, without bins."
   ]
  },
  {
   "cell_type": "code",
   "execution_count": 62,
   "metadata": {},
   "outputs": [
    {
     "data": {
      "text/plain": [
       "Text(0.5, 1.0, 'CTh % Change without Bins')"
      ]
     },
     "execution_count": 62,
     "metadata": {},
     "output_type": "execute_result"
    },
    {
     "data": {
      "image/png": "[encoded data removed]",
      "text/plain": [
       "<Figure size 432x288 with 1 Axes>"
      ]
     },
     "metadata": {
      "needs_background": "light"
     },
     "output_type": "display_data"
    }
   ],
   "source": [
    "ax = coth__['Pct Change'].plot.hist(bins = 500, alpha = 0.4)\n",
    "ax.set_xlim(-100, 55)\n",
    "ax.set_title('CTh % Change without Bins')"
   ]
  },
  {
   "cell_type": "markdown",
   "metadata": {},
   "source": [
    "# Combining all patients\n",
    "All these data are from a singular patient.  Let's combine all data and view the results."
   ]
  },
  {
   "cell_type": "code",
   "execution_count": 63,
   "metadata": {},
   "outputs": [
    {
     "data": {
      "text/html": [
       "<div>\n",
       "<style scoped>\n",
       "    .dataframe tbody tr th:only-of-type {\n",
       "        vertical-align: middle;\n",
       "    }\n",
       "\n",
       "    .dataframe tbody tr th {\n",
       "        vertical-align: top;\n",
       "    }\n",
       "\n",
       "    .dataframe thead th {\n",
       "        text-align: right;\n",
       "    }\n",
       "</style>\n",
       "<table border=\"1\" class=\"dataframe\">\n",
       "  <thead>\n",
       "    <tr style=\"text-align: right;\">\n",
       "      <th></th>\n",
       "      <th>Pre CTh</th>\n",
       "      <th>Post CTh</th>\n",
       "      <th>Pct Change</th>\n",
       "      <th>Distances</th>\n",
       "      <th>Pre Err</th>\n",
       "      <th>Post Err</th>\n",
       "      <th>Dose</th>\n",
       "      <th>Pt</th>\n",
       "    </tr>\n",
       "  </thead>\n",
       "  <tbody>\n",
       "    <tr>\n",
       "      <th>count</th>\n",
       "      <td>174399.000000</td>\n",
       "      <td>177826.000000</td>\n",
       "      <td>159984.000000</td>\n",
       "      <td>177826.000000</td>\n",
       "      <td>1.743990e+05</td>\n",
       "      <td>1.778260e+05</td>\n",
       "      <td>129954.000000</td>\n",
       "      <td>2.839760e+05</td>\n",
       "    </tr>\n",
       "    <tr>\n",
       "      <th>mean</th>\n",
       "      <td>2.051608</td>\n",
       "      <td>1.837416</td>\n",
       "      <td>3.456724</td>\n",
       "      <td>0.823021</td>\n",
       "      <td>7.410039e+08</td>\n",
       "      <td>6.256130e+08</td>\n",
       "      <td>18.545752</td>\n",
       "      <td>2.568945e+06</td>\n",
       "    </tr>\n",
       "    <tr>\n",
       "      <th>std</th>\n",
       "      <td>0.962218</td>\n",
       "      <td>0.785105</td>\n",
       "      <td>210.153303</td>\n",
       "      <td>0.932882</td>\n",
       "      <td>2.619346e+09</td>\n",
       "      <td>2.421726e+09</td>\n",
       "      <td>28.612003</td>\n",
       "      <td>1.456935e+06</td>\n",
       "    </tr>\n",
       "    <tr>\n",
       "      <th>min</th>\n",
       "      <td>-0.330000</td>\n",
       "      <td>-0.496271</td>\n",
       "      <td>-36400.405059</td>\n",
       "      <td>0.003384</td>\n",
       "      <td>5.158179e-03</td>\n",
       "      <td>5.158301e-03</td>\n",
       "      <td>0.000000</td>\n",
       "      <td>5.758520e+05</td>\n",
       "    </tr>\n",
       "    <tr>\n",
       "      <th>25%</th>\n",
       "      <td>1.406557</td>\n",
       "      <td>1.315338</td>\n",
       "      <td>-31.156987</td>\n",
       "      <td>0.409878</td>\n",
       "      <td>6.615563e-03</td>\n",
       "      <td>6.442726e-03</td>\n",
       "      <td>0.000000</td>\n",
       "      <td>8.672020e+05</td>\n",
       "    </tr>\n",
       "    <tr>\n",
       "      <th>50%</th>\n",
       "      <td>1.964181</td>\n",
       "      <td>1.773074</td>\n",
       "      <td>-7.199634</td>\n",
       "      <td>0.566702</td>\n",
       "      <td>8.324892e-03</td>\n",
       "      <td>7.772787e-03</td>\n",
       "      <td>0.000000</td>\n",
       "      <td>3.427895e+06</td>\n",
       "    </tr>\n",
       "    <tr>\n",
       "      <th>75%</th>\n",
       "      <td>2.572688</td>\n",
       "      <td>2.279323</td>\n",
       "      <td>19.788296</td>\n",
       "      <td>0.856965</td>\n",
       "      <td>1.280692e-02</td>\n",
       "      <td>1.096108e-02</td>\n",
       "      <td>51.054102</td>\n",
       "      <td>4.223514e+06</td>\n",
       "    </tr>\n",
       "    <tr>\n",
       "      <th>max</th>\n",
       "      <td>6.964240</td>\n",
       "      <td>6.924207</td>\n",
       "      <td>61670.588845</td>\n",
       "      <td>10.460968</td>\n",
       "      <td>1.000000e+10</td>\n",
       "      <td>1.000000e+10</td>\n",
       "      <td>74.241645</td>\n",
       "      <td>4.259800e+06</td>\n",
       "    </tr>\n",
       "  </tbody>\n",
       "</table>\n",
       "</div>"
      ],
      "text/plain": [
       "             Pre CTh       Post CTh     Pct Change      Distances  \\\n",
       "count  174399.000000  177826.000000  159984.000000  177826.000000   \n",
       "mean        2.051608       1.837416       3.456724       0.823021   \n",
       "std         0.962218       0.785105     210.153303       0.932882   \n",
       "min        -0.330000      -0.496271  -36400.405059       0.003384   \n",
       "25%         1.406557       1.315338     -31.156987       0.409878   \n",
       "50%         1.964181       1.773074      -7.199634       0.566702   \n",
       "75%         2.572688       2.279323      19.788296       0.856965   \n",
       "max         6.964240       6.924207   61670.588845      10.460968   \n",
       "\n",
       "            Pre Err      Post Err           Dose            Pt  \n",
       "count  1.743990e+05  1.778260e+05  129954.000000  2.839760e+05  \n",
       "mean   7.410039e+08  6.256130e+08      18.545752  2.568945e+06  \n",
       "std    2.619346e+09  2.421726e+09      28.612003  1.456935e+06  \n",
       "min    5.158179e-03  5.158301e-03       0.000000  5.758520e+05  \n",
       "25%    6.615563e-03  6.442726e-03       0.000000  8.672020e+05  \n",
       "50%    8.324892e-03  7.772787e-03       0.000000  3.427895e+06  \n",
       "75%    1.280692e-02  1.096108e-02      51.054102  4.223514e+06  \n",
       "max    1.000000e+10  1.000000e+10      74.241645  4.259800e+06  "
      ]
     },
     "execution_count": 63,
     "metadata": {},
     "output_type": "execute_result"
    }
   ],
   "source": [
    "# Generate list of filenames\n",
    "coth_files = [os.path.join(root, '%s_all_data.csv' % patient_number) for patient_number in pt_list]\n",
    "\n",
    "# Concatenate all patients\n",
    "all_coth = pd.concat([pd.read_pickle(fp) for fp in coth_files], ignore_index=True)\n",
    "\n",
    "all_coth.describe() # Display table"
   ]
  },
  {
   "cell_type": "markdown",
   "metadata": {},
   "source": [
    "## Filter comprehensive data"
   ]
  },
  {
   "cell_type": "code",
   "execution_count": 74,
   "metadata": {},
   "outputs": [
    {
     "data": {
      "text/html": [
       "<div>\n",
       "<style scoped>\n",
       "    .dataframe tbody tr th:only-of-type {\n",
       "        vertical-align: middle;\n",
       "    }\n",
       "\n",
       "    .dataframe tbody tr th {\n",
       "        vertical-align: top;\n",
       "    }\n",
       "\n",
       "    .dataframe thead th {\n",
       "        text-align: right;\n",
       "    }\n",
       "</style>\n",
       "<table border=\"1\" class=\"dataframe\">\n",
       "  <thead>\n",
       "    <tr style=\"text-align: right;\">\n",
       "      <th></th>\n",
       "      <th>Pre CTh</th>\n",
       "      <th>Post CTh</th>\n",
       "      <th>Pct Change</th>\n",
       "      <th>Distances</th>\n",
       "      <th>Dose</th>\n",
       "    </tr>\n",
       "  </thead>\n",
       "  <tbody>\n",
       "    <tr>\n",
       "      <th>count</th>\n",
       "      <td>97343.000000</td>\n",
       "      <td>97343.000000</td>\n",
       "      <td>97343.000000</td>\n",
       "      <td>97343.000000</td>\n",
       "      <td>51022.000000</td>\n",
       "    </tr>\n",
       "    <tr>\n",
       "      <th>mean</th>\n",
       "      <td>2.176106</td>\n",
       "      <td>1.859502</td>\n",
       "      <td>-7.273735</td>\n",
       "      <td>0.519670</td>\n",
       "      <td>17.002725</td>\n",
       "    </tr>\n",
       "    <tr>\n",
       "      <th>std</th>\n",
       "      <td>0.907546</td>\n",
       "      <td>0.717372</td>\n",
       "      <td>33.844200</td>\n",
       "      <td>0.199498</td>\n",
       "      <td>27.512988</td>\n",
       "    </tr>\n",
       "    <tr>\n",
       "      <th>min</th>\n",
       "      <td>0.037485</td>\n",
       "      <td>0.001202</td>\n",
       "      <td>-99.657191</td>\n",
       "      <td>0.003384</td>\n",
       "      <td>0.000000</td>\n",
       "    </tr>\n",
       "    <tr>\n",
       "      <th>25%</th>\n",
       "      <td>1.565232</td>\n",
       "      <td>1.379103</td>\n",
       "      <td>-31.326839</td>\n",
       "      <td>0.376033</td>\n",
       "      <td>0.000000</td>\n",
       "    </tr>\n",
       "    <tr>\n",
       "      <th>50%</th>\n",
       "      <td>2.053447</td>\n",
       "      <td>1.796708</td>\n",
       "      <td>-9.035700</td>\n",
       "      <td>0.497474</td>\n",
       "      <td>0.000000</td>\n",
       "    </tr>\n",
       "    <tr>\n",
       "      <th>75%</th>\n",
       "      <td>2.646903</td>\n",
       "      <td>2.276084</td>\n",
       "      <td>14.807142</td>\n",
       "      <td>0.649788</td>\n",
       "      <td>40.276328</td>\n",
       "    </tr>\n",
       "    <tr>\n",
       "      <th>max</th>\n",
       "      <td>6.964240</td>\n",
       "      <td>6.457602</td>\n",
       "      <td>99.973205</td>\n",
       "      <td>0.999950</td>\n",
       "      <td>74.241645</td>\n",
       "    </tr>\n",
       "  </tbody>\n",
       "</table>\n",
       "</div>"
      ],
      "text/plain": [
       "            Pre CTh      Post CTh    Pct Change     Distances          Dose\n",
       "count  97343.000000  97343.000000  97343.000000  97343.000000  51022.000000\n",
       "mean       2.176106      1.859502     -7.273735      0.519670     17.002725\n",
       "std        0.907546      0.717372     33.844200      0.199498     27.512988\n",
       "min        0.037485      0.001202    -99.657191      0.003384      0.000000\n",
       "25%        1.565232      1.379103    -31.326839      0.376033      0.000000\n",
       "50%        2.053447      1.796708     -9.035700      0.497474      0.000000\n",
       "75%        2.646903      2.276084     14.807142      0.649788     40.276328\n",
       "max        6.964240      6.457602     99.973205      0.999950     74.241645"
      ]
     },
     "execution_count": 74,
     "metadata": {},
     "output_type": "execute_result"
    }
   ],
   "source": [
    "# Remove datapoints with a local error below 0.1 mm\n",
    "all_coth_ = all_coth[all_coth['Post Err'] < 0.1]\n",
    "all_coth_ = all_coth_[all_coth_['Pre Err'] < 0.1]\n",
    "\n",
    "# Remove datapoints with furthest associated neighbor distance of greater than 1 mm\n",
    "all_coth_ = all_coth_[all_coth_['Distances'] < 1]\n",
    "\n",
    "# Remove datapoints exhibiting unreasonable % change\n",
    "all_coth_ = all_coth_[all_coth_['Pct Change'] < 100]\n",
    "all_coth_ = all_coth_[all_coth_['Pct Change'] > -100]\n",
    "\n",
    " # Remove unused columns\n",
    "all_coth_ = all_coth_.drop(['Post Err', 'Pre Err', 'Pt'], axis=1)\n",
    "\n",
    "all_coth_.describe() # Display table"
   ]
  },
  {
   "cell_type": "markdown",
   "metadata": {},
   "source": [
    "### Box plot\n",
    "Now let's display a box plot of all the filtered data.  It has almost <b>100,000</b> data points, each representing a vertex trio."
   ]
  },
  {
   "cell_type": "code",
   "execution_count": 67,
   "metadata": {},
   "outputs": [
    {
     "data": {
      "text/plain": [
       "<matplotlib.axes._subplots.AxesSubplot at 0x1e6afce1ef0>"
      ]
     },
     "execution_count": 67,
     "metadata": {},
     "output_type": "execute_result"
    },
    {
     "data": {
      "image/png": "[encoded data removed]",
      "text/plain": [
       "<Figure size 432x288 with 1 Axes>"
      ]
     },
     "metadata": {
      "needs_background": "light"
     },
     "output_type": "display_data"
    }
   ],
   "source": [
    "dose.boxplot()"
   ]
  },
  {
   "cell_type": "markdown",
   "metadata": {},
   "source": [
    "### Future direction\n",
    "* Incorporate dose fractionation\n",
    "* Utilize databases"
   ]
  }
 ],
 "metadata": {
  "kernelspec": {
   "display_name": "Python 3",
   "language": "python",
   "name": "python3"
  },
  "language_info": {
   "codemirror_mode": {
    "name": "ipython",
    "version": 3
   },
   "file_extension": ".py",
   "mimetype": "text/x-python",
   "name": "python",
   "nbconvert_exporter": "python",
   "pygments_lexer": "ipython3",
   "version": "3.6.10"
  },
  "toc": {
   "base_numbering": 1,
   "nav_menu": {},
   "number_sections": true,
   "sideBar": true,
   "skip_h1_title": false,
   "title_cell": "Table of Contents",
   "title_sidebar": "Contents",
   "toc_cell": false,
   "toc_position": {},
   "toc_section_display": true,
   "toc_window_display": false
  },
  "varInspector": {
   "cols": {
    "lenName": 16,
    "lenType": 16,
    "lenVar": 40
   },
   "kernels_config": {
    "python": {
     "delete_cmd_postfix": "",
     "delete_cmd_prefix": "del ",
     "library": "var_list.py",
     "varRefreshCmd": "print(var_dic_list())"
    },
    "r": {
     "delete_cmd_postfix": ") ",
     "delete_cmd_prefix": "rm(",
     "library": "var_list.r",
     "varRefreshCmd": "cat(var_dic_list()) "
    }
   },
   "types_to_exclude": [
    "module",
    "function",
    "builtin_function_or_method",
    "instance",
    "_Feature"
   ],
   "window_display": false
  }
 },
 "nbformat": 4,
 "nbformat_minor": 4
}
